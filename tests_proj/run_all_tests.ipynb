{
 "cells": [
  {
   "cell_type": "code",
   "execution_count": 1,
   "metadata": {},
   "outputs": [],
   "source": [
    "import Tests"
   ]
  },
  {
   "cell_type": "code",
   "execution_count": 2,
   "metadata": {},
   "outputs": [
    {
     "name": "stdout",
     "output_type": "stream",
     "text": [
      "result of test1: (True, 'Succes')\n",
      "result of test2: (True, 'Succes')\n",
      "result of test3: (True, 'Succes')\n",
      "result of test4: (False, 'Not enaugth occurances / wrong occurnace number')\n",
      "result of test5: (False, 'File Path does not exist')\n",
      "result of test6: (False, 'Non Existing name')\n",
      "result of test7: (False, 'Non Existing name_path')\n",
      "result of test8: (True, 'Succes')\n",
      "result of test9: (True, 'Succes')\n",
      "result of test10: (True, 'Succes')\n",
      "result of test11: (False, 'cannot extract function')\n",
      "result of test12: (True, 'Succes')\n",
      "result of test13: (True, 'Succes')\n",
      "result of test14: (False, 'end line exceedes line numbers')\n",
      "result of test15: (True, 'Succes')\n"
     ]
    }
   ],
   "source": [
    "for i in range(1,16):\n",
    "    test  = getattr(Tests, f'test{i}')\n",
    "    print(f'result of test{i}: {test()}' )"
   ]
  },
  {
   "cell_type": "code",
   "execution_count": null,
   "metadata": {},
   "outputs": [],
   "source": []
  },
  {
   "cell_type": "code",
   "execution_count": null,
   "metadata": {},
   "outputs": [],
   "source": []
  }
 ],
 "metadata": {
  "kernelspec": {
   "display_name": "Python 3",
   "language": "python",
   "name": "python3"
  },
  "language_info": {
   "codemirror_mode": {
    "name": "ipython",
    "version": 3
   },
   "file_extension": ".py",
   "mimetype": "text/x-python",
   "name": "python",
   "nbconvert_exporter": "python",
   "pygments_lexer": "ipython3",
   "version": "3.9.7"
  },
  "orig_nbformat": 4
 },
 "nbformat": 4,
 "nbformat_minor": 2
}
